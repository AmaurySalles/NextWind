{
 "cells": [
  {
   "cell_type": "code",
   "execution_count": 1,
   "id": "784e86f0",
   "metadata": {},
   "outputs": [],
   "source": [
    "%load_ext autoreload\n",
    "%autoreload 2"
   ]
  },
  {
   "cell_type": "code",
   "execution_count": 2,
   "id": "2ed9e99b",
   "metadata": {},
   "outputs": [],
   "source": [
    "import numpy as np\n",
    "import pandas as pd"
   ]
  },
  {
   "cell_type": "code",
   "execution_count": 3,
   "id": "5f9d2ad1",
   "metadata": {},
   "outputs": [],
   "source": [
    "from projectwind.preproc import make_datasets"
   ]
  },
  {
   "cell_type": "code",
   "execution_count": 4,
   "id": "68cda849",
   "metadata": {},
   "outputs": [
    {
     "name": "stdout",
     "output_type": "stream",
     "text": [
      "### Fetching 25xWTG data ###\n",
      "### Fetching weather forecast data from MERRA2 ###\n",
      "### Preparing train, val & test datasets ###\n"
     ]
    }
   ],
   "source": [
    "datasets = make_datasets(forecast_data='MERRA2')"
   ]
  },
  {
   "cell_type": "code",
   "execution_count": 5,
   "id": "4852b329",
   "metadata": {},
   "outputs": [],
   "source": [
    "from projectwind.preproc import SequenceGenerator"
   ]
  },
  {
   "cell_type": "code",
   "execution_count": 6,
   "id": "f2653166",
   "metadata": {},
   "outputs": [],
   "source": [
    "n_steps_in = 24\n",
    "n_steps_out = 6"
   ]
  },
  {
   "cell_type": "code",
   "execution_count": 11,
   "id": "b92be64d",
   "metadata": {},
   "outputs": [
    {
     "name": "stdout",
     "output_type": "stream",
     "text": [
      "### Window details ### \n",
      " Total window size: 30\n",
      "Input column name(s): ['Power', 'Rotor Speed', 'Wind Speed', 'Blade Pitch', 'Nacelle_X', 'Nacelle_Y', 'Wind_X', 'Wind_Y', 'Forecast_wind_speed', 'Forecast_X', 'Forecast_Y']\n",
      "Input indices: [ 0  1  2  3  4  5  6  7  8  9 10 11 12 13 14 15 16 17 18 19 20 21 22 23]\n",
      "Forecast column name(s): ['Forecast_wind_speed', 'Forecast_X', 'Forecast_Y']\n",
      "Forecast indices: [24 25 26 27 28 29]\n",
      "Label column name(s): ['Power']\n",
      "Label indices: [24 25 26 27 28 29] \n",
      "\n",
      "### Train Class_24in_6out sequences loaded ###\n",
      "### Val Class_24in_6out sequences loaded ###\n",
      "### Test Class_24in_6out sequences loaded ###\n"
     ]
    }
   ],
   "source": [
    "window = SequenceGenerator(n_steps_in, n_steps_out, n_steps_out,\n",
    "                          datasets, classification=True,\n",
    "                          forecast_columns=['Forecast_wind_speed', 'Forecast_X', 'Forecast_Y'])"
   ]
  },
  {
   "cell_type": "code",
   "execution_count": 12,
   "id": "5d6fd6ca",
   "metadata": {},
   "outputs": [
    {
     "data": {
      "text/plain": [
       "((12300, 24, 11), (12300,), (12300, 6, 3))"
      ]
     },
     "execution_count": 12,
     "metadata": {},
     "output_type": "execute_result"
    }
   ],
   "source": [
    "X_train, y_train, X_fc_train = window.train.values()\n",
    "X_train.shape, y_train.shape, X_fc_train.shape"
   ]
  },
  {
   "cell_type": "code",
   "execution_count": 13,
   "id": "483f1d3c",
   "metadata": {},
   "outputs": [
    {
     "data": {
      "text/plain": [
       "((3500, 24, 11), (3500,), (3500, 6, 3))"
      ]
     },
     "execution_count": 13,
     "metadata": {},
     "output_type": "execute_result"
    }
   ],
   "source": [
    "X_val, y_val, X_fc_val = window.val.values()\n",
    "X_val.shape, y_val.shape, X_fc_val.shape"
   ]
  },
  {
   "cell_type": "code",
   "execution_count": 14,
   "id": "c1479ea1",
   "metadata": {},
   "outputs": [
    {
     "data": {
      "text/plain": [
       "((1750, 24, 11), (1750,), (1750, 6, 3))"
      ]
     },
     "execution_count": 14,
     "metadata": {},
     "output_type": "execute_result"
    }
   ],
   "source": [
    "X_test, y_test, X_fc_test = window.test.values()\n",
    "X_test.shape, y_test.shape, X_fc_test.shape"
   ]
  },
  {
   "cell_type": "code",
   "execution_count": 15,
   "id": "c95789ec",
   "metadata": {},
   "outputs": [
    {
     "name": "stdout",
     "output_type": "stream",
     "text": [
      "### Train Class_24in_6out sequences loaded ###\n",
      "### Val Class_24in_6out sequences loaded ###\n",
      "### Test Class_24in_6out sequences loaded ###\n"
     ]
    }
   ],
   "source": [
    "# Another option to retrieve the values again, or update window sequences with a new dataset\n",
    "train, val, test = window.get_sequences(datasets)"
   ]
  },
  {
   "cell_type": "code",
   "execution_count": null,
   "id": "cb2743a2",
   "metadata": {},
   "outputs": [],
   "source": [
    "# This also works to retrieve specific values\n",
    "X_fc_train = window.train['X_fc']\n",
    "X_fc_train"
   ]
  },
  {
   "cell_type": "code",
   "execution_count": 16,
   "id": "f1d8c5b6",
   "metadata": {},
   "outputs": [],
   "source": [
    "from projectwind.baseline import baseline_model"
   ]
  },
  {
   "cell_type": "code",
   "execution_count": 17,
   "id": "59905955",
   "metadata": {},
   "outputs": [
    {
     "name": "stdout",
     "output_type": "stream",
     "text": [
      "### Fetching 25xWTG Power data ###\n",
      "### Calculating baseline loss ###\n",
      "MAE = 430.0\n",
      "Target std = 574.0\n"
     ]
    }
   ],
   "source": [
    "baseline = baseline_model(n_steps_out)"
   ]
  },
  {
   "cell_type": "code",
   "execution_count": null,
   "id": "30dc3192",
   "metadata": {},
   "outputs": [],
   "source": []
  }
 ],
 "metadata": {
  "kernelspec": {
   "display_name": "Python 3 (ipykernel)",
   "language": "python",
   "name": "python3"
  },
  "language_info": {
   "codemirror_mode": {
    "name": "ipython",
    "version": 3
   },
   "file_extension": ".py",
   "mimetype": "text/x-python",
   "name": "python",
   "nbconvert_exporter": "python",
   "pygments_lexer": "ipython3",
   "version": "3.8.12"
  },
  "toc": {
   "base_numbering": 1,
   "nav_menu": {},
   "number_sections": true,
   "sideBar": true,
   "skip_h1_title": false,
   "title_cell": "Table of Contents",
   "title_sidebar": "Contents",
   "toc_cell": false,
   "toc_position": {},
   "toc_section_display": true,
   "toc_window_display": false
  }
 },
 "nbformat": 4,
 "nbformat_minor": 5
}
