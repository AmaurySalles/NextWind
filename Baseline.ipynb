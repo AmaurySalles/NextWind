{
 "cells": [
  {
   "cell_type": "code",
   "execution_count": 1,
   "id": "75f24c9e",
   "metadata": {
    "ExecuteTime": {
     "end_time": "2022-02-05T08:13:19.159840Z",
     "start_time": "2022-02-05T08:13:19.131514Z"
    }
   },
   "outputs": [],
   "source": [
    "%load_ext autoreload\n",
    "%autoreload 2"
   ]
  },
  {
   "cell_type": "code",
   "execution_count": 73,
   "id": "a44208c2",
   "metadata": {
    "ExecuteTime": {
     "end_time": "2022-02-05T10:05:26.525488Z",
     "start_time": "2022-02-05T10:05:26.496465Z"
    }
   },
   "outputs": [],
   "source": [
    "import pandas as pd\n",
    "import numpy as np\n",
    "import os\n",
    "import matplotlib.pyplot as plt\n",
    "from sklearn.metrics import mean_squared_error\n",
    "from sklearn.metrics import mean_absolute_error\n"
   ]
  },
  {
   "cell_type": "code",
   "execution_count": null,
   "id": "bee41bba",
   "metadata": {},
   "outputs": [],
   "source": [
    "from projectwind.clean import add_timestamps\n",
    "from projectwind.sampling import get_clean_sequences\n",
    "from projectwind.pipeline import get_pipeline"
   ]
  },
  {
   "cell_type": "code",
   "execution_count": 3,
   "id": "bb250ccc",
   "metadata": {
    "ExecuteTime": {
     "end_time": "2022-02-05T08:13:28.868088Z",
     "start_time": "2022-02-05T08:13:28.847039Z"
    }
   },
   "outputs": [],
   "source": [
    "from projectwind.data import get_data, split_fit_data, split_test_data, get_samples, get_pipeline"
   ]
  },
  {
   "cell_type": "code",
   "execution_count": 4,
   "id": "2f3e768b",
   "metadata": {
    "ExecuteTime": {
     "end_time": "2022-02-05T08:13:28.933491Z",
     "start_time": "2022-02-05T08:13:28.911478Z"
    }
   },
   "outputs": [],
   "source": [
    "def get_data():\n",
    "    # Take the parent dirname for the raw data\n",
    "    parentdir = os.path.dirname(os.path.abspath(\"__file__\"))\n",
    "    rawdir = os.path.join(parentdir,\"raw_data\")\n",
    "\n",
    "    # Output dict\n",
    "    all_WTG_data = {}\n",
    "    fit_data = pd.DataFrame()\n",
    "\n",
    "    # Append all csv data files to a dict(\"WTG_number\" : dataframe)\n",
    "    for root, directory, file in os.walk(rawdir):\n",
    "        for WTG_number in range (5):\n",
    "            print(WTG_number)\n",
    "            # Train/Val/Test dataset\n",
    "            # Output format: Dataframe per WTG assembled in a dict(\"WTG_number\": dataframe)\n",
    "            data = pd.read_csv(root +'/' +file[WTG_number],\n",
    "                                index_col=0,\n",
    "                                parse_dates=True,\n",
    "                                dayfirst=True)\n",
    "\n",
    "            data.rename(columns={\"Desalineación Nacelle y Dirección de Viento Media 10M\\n(°)\": \"Misalignment\",\n",
    "                                    \"Media de Potencia Activa 10M\\n(kW)\": \"Power\",\n",
    "                                    \"Posición Nacelle Media 10M\\n(°)\":\"Nacelle Orientation\",\n",
    "                                    \"Velocidad Rotor Media 10M\\n(rpm)\":\"Rotor Speed\",\n",
    "                                    \"Velocidad Viento Media 10M\\n(m/s)\":\"Wind Speed\",\n",
    "                                    \"Ángulo Pitch Media 10M\\n(°)\":\"Blade Pitch\"},\n",
    "                                    inplace=True)\n",
    "\n",
    "            all_WTG_data[WTG_number] = data\n",
    "\n",
    "    # Prepare df containing scaler fit data (no need for cleaning as there are no outliers)\n",
    "    # Format: timesteps concatenated / only 6 columns\n",
    "    for WTG_number in all_WTG_data:\n",
    "        fit_data = pd.concat((fit_data,all_WTG_data[WTG_number]),ignore_index=True)\n",
    "\n",
    "\n",
    "    return all_WTG_data, fit_data\n"
   ]
  },
  {
   "cell_type": "code",
   "execution_count": 5,
   "id": "54c1c45a",
   "metadata": {
    "ExecuteTime": {
     "end_time": "2022-02-05T08:14:15.009327Z",
     "start_time": "2022-02-05T08:13:31.776267Z"
    }
   },
   "outputs": [
    {
     "name": "stdout",
     "output_type": "stream",
     "text": [
      "0\n",
      "1\n",
      "2\n",
      "3\n",
      "4\n"
     ]
    }
   ],
   "source": [
    "data, fit_data = get_data()"
   ]
  },
  {
   "cell_type": "code",
   "execution_count": 58,
   "id": "1a4b25ad",
   "metadata": {
    "ExecuteTime": {
     "end_time": "2022-02-05T09:46:20.800091Z",
     "start_time": "2022-02-05T09:46:20.769138Z"
    }
   },
   "outputs": [],
   "source": [
    "historical_power = data[0]['Power']"
   ]
  },
  {
   "cell_type": "code",
   "execution_count": 68,
   "id": "1c610b07",
   "metadata": {
    "ExecuteTime": {
     "end_time": "2022-02-05T09:55:25.469143Z",
     "start_time": "2022-02-05T09:55:25.430858Z"
    }
   },
   "outputs": [
    {
     "data": {
      "text/html": [
       "<div>\n",
       "<style scoped>\n",
       "    .dataframe tbody tr th:only-of-type {\n",
       "        vertical-align: middle;\n",
       "    }\n",
       "\n",
       "    .dataframe tbody tr th {\n",
       "        vertical-align: top;\n",
       "    }\n",
       "\n",
       "    .dataframe thead th {\n",
       "        text-align: right;\n",
       "    }\n",
       "</style>\n",
       "<table border=\"1\" class=\"dataframe\">\n",
       "  <thead>\n",
       "    <tr style=\"text-align: right;\">\n",
       "      <th></th>\n",
       "      <th>Power</th>\n",
       "      <th>Prediction</th>\n",
       "    </tr>\n",
       "    <tr>\n",
       "      <th>Fecha</th>\n",
       "      <th></th>\n",
       "      <th></th>\n",
       "    </tr>\n",
       "  </thead>\n",
       "  <tbody>\n",
       "    <tr>\n",
       "      <th>2019-05-01 00:00:00</th>\n",
       "      <td>1159.76</td>\n",
       "      <td>NaN</td>\n",
       "    </tr>\n",
       "    <tr>\n",
       "      <th>2019-05-01 00:10:00</th>\n",
       "      <td>1103.73</td>\n",
       "      <td>NaN</td>\n",
       "    </tr>\n",
       "    <tr>\n",
       "      <th>2019-05-01 00:20:00</th>\n",
       "      <td>1119.01</td>\n",
       "      <td>NaN</td>\n",
       "    </tr>\n",
       "    <tr>\n",
       "      <th>2019-05-01 00:30:00</th>\n",
       "      <td>1281.76</td>\n",
       "      <td>NaN</td>\n",
       "    </tr>\n",
       "    <tr>\n",
       "      <th>2019-05-01 00:40:00</th>\n",
       "      <td>1121.60</td>\n",
       "      <td>NaN</td>\n",
       "    </tr>\n",
       "    <tr>\n",
       "      <th>...</th>\n",
       "      <td>...</td>\n",
       "      <td>...</td>\n",
       "    </tr>\n",
       "    <tr>\n",
       "      <th>2021-09-30 23:10:00</th>\n",
       "      <td>52.39</td>\n",
       "      <td>413.432917</td>\n",
       "    </tr>\n",
       "    <tr>\n",
       "      <th>2021-09-30 23:20:00</th>\n",
       "      <td>159.25</td>\n",
       "      <td>415.798889</td>\n",
       "    </tr>\n",
       "    <tr>\n",
       "      <th>2021-09-30 23:30:00</th>\n",
       "      <td>246.98</td>\n",
       "      <td>419.390000</td>\n",
       "    </tr>\n",
       "    <tr>\n",
       "      <th>2021-09-30 23:40:00</th>\n",
       "      <td>88.34</td>\n",
       "      <td>420.777778</td>\n",
       "    </tr>\n",
       "    <tr>\n",
       "      <th>2021-09-30 23:50:00</th>\n",
       "      <td>90.62</td>\n",
       "      <td>420.559167</td>\n",
       "    </tr>\n",
       "  </tbody>\n",
       "</table>\n",
       "<p>122870 rows × 2 columns</p>\n",
       "</div>"
      ],
      "text/plain": [
       "                       Power  Prediction\n",
       "Fecha                                   \n",
       "2019-05-01 00:00:00  1159.76         NaN\n",
       "2019-05-01 00:10:00  1103.73         NaN\n",
       "2019-05-01 00:20:00  1119.01         NaN\n",
       "2019-05-01 00:30:00  1281.76         NaN\n",
       "2019-05-01 00:40:00  1121.60         NaN\n",
       "...                      ...         ...\n",
       "2021-09-30 23:10:00    52.39  413.432917\n",
       "2021-09-30 23:20:00   159.25  415.798889\n",
       "2021-09-30 23:30:00   246.98  419.390000\n",
       "2021-09-30 23:40:00    88.34  420.777778\n",
       "2021-09-30 23:50:00    90.62  420.559167\n",
       "\n",
       "[122870 rows x 2 columns]"
      ]
     },
     "execution_count": 68,
     "metadata": {},
     "output_type": "execute_result"
    }
   ],
   "source": [
    "historical_power = pd.DataFrame(data=historical_power)\n",
    "historical_power"
   ]
  },
  {
   "cell_type": "code",
   "execution_count": 60,
   "id": "8787e54a",
   "metadata": {
    "ExecuteTime": {
     "end_time": "2022-02-05T09:46:24.137918Z",
     "start_time": "2022-02-05T09:46:24.106002Z"
    }
   },
   "outputs": [],
   "source": [
    "historical_power['Prediction'] = historical_power['Power'].rolling(window = 72).mean()\n"
   ]
  },
  {
   "cell_type": "code",
   "execution_count": 66,
   "id": "264a2d69",
   "metadata": {
    "ExecuteTime": {
     "end_time": "2022-02-05T09:54:17.932438Z",
     "start_time": "2022-02-05T09:54:17.900702Z"
    }
   },
   "outputs": [
    {
     "data": {
      "text/plain": [
       "Power           1\n",
       "Prediction    143\n",
       "dtype: int64"
      ]
     },
     "execution_count": 66,
     "metadata": {},
     "output_type": "execute_result"
    }
   ],
   "source": [
    "historical_power.isna().sum()"
   ]
  },
  {
   "cell_type": "code",
   "execution_count": 69,
   "id": "2f4b3b1a",
   "metadata": {
    "ExecuteTime": {
     "end_time": "2022-02-05T09:59:23.370200Z",
     "start_time": "2022-02-05T09:59:23.333956Z"
    }
   },
   "outputs": [],
   "source": [
    "baseline = historical_power.dropna()"
   ]
  },
  {
   "cell_type": "code",
   "execution_count": 70,
   "id": "78ecf7a9",
   "metadata": {
    "ExecuteTime": {
     "end_time": "2022-02-05T10:01:22.828208Z",
     "start_time": "2022-02-05T10:01:22.796588Z"
    }
   },
   "outputs": [
    {
     "data": {
      "text/html": [
       "<div>\n",
       "<style scoped>\n",
       "    .dataframe tbody tr th:only-of-type {\n",
       "        vertical-align: middle;\n",
       "    }\n",
       "\n",
       "    .dataframe tbody tr th {\n",
       "        vertical-align: top;\n",
       "    }\n",
       "\n",
       "    .dataframe thead th {\n",
       "        text-align: right;\n",
       "    }\n",
       "</style>\n",
       "<table border=\"1\" class=\"dataframe\">\n",
       "  <thead>\n",
       "    <tr style=\"text-align: right;\">\n",
       "      <th></th>\n",
       "      <th>Power</th>\n",
       "      <th>Prediction</th>\n",
       "    </tr>\n",
       "    <tr>\n",
       "      <th>Fecha</th>\n",
       "      <th></th>\n",
       "      <th></th>\n",
       "    </tr>\n",
       "  </thead>\n",
       "  <tbody>\n",
       "    <tr>\n",
       "      <th>2019-05-01 11:50:00</th>\n",
       "      <td>1907.57</td>\n",
       "      <td>1287.083750</td>\n",
       "    </tr>\n",
       "    <tr>\n",
       "      <th>2019-05-01 12:00:00</th>\n",
       "      <td>1638.74</td>\n",
       "      <td>1293.736250</td>\n",
       "    </tr>\n",
       "    <tr>\n",
       "      <th>2019-05-01 12:10:00</th>\n",
       "      <td>1410.02</td>\n",
       "      <td>1297.990278</td>\n",
       "    </tr>\n",
       "    <tr>\n",
       "      <th>2019-05-01 12:20:00</th>\n",
       "      <td>1094.71</td>\n",
       "      <td>1297.652778</td>\n",
       "    </tr>\n",
       "    <tr>\n",
       "      <th>2019-05-01 12:30:00</th>\n",
       "      <td>1440.44</td>\n",
       "      <td>1299.856667</td>\n",
       "    </tr>\n",
       "    <tr>\n",
       "      <th>...</th>\n",
       "      <td>...</td>\n",
       "      <td>...</td>\n",
       "    </tr>\n",
       "    <tr>\n",
       "      <th>2021-09-30 23:10:00</th>\n",
       "      <td>52.39</td>\n",
       "      <td>413.432917</td>\n",
       "    </tr>\n",
       "    <tr>\n",
       "      <th>2021-09-30 23:20:00</th>\n",
       "      <td>159.25</td>\n",
       "      <td>415.798889</td>\n",
       "    </tr>\n",
       "    <tr>\n",
       "      <th>2021-09-30 23:30:00</th>\n",
       "      <td>246.98</td>\n",
       "      <td>419.390000</td>\n",
       "    </tr>\n",
       "    <tr>\n",
       "      <th>2021-09-30 23:40:00</th>\n",
       "      <td>88.34</td>\n",
       "      <td>420.777778</td>\n",
       "    </tr>\n",
       "    <tr>\n",
       "      <th>2021-09-30 23:50:00</th>\n",
       "      <td>90.62</td>\n",
       "      <td>420.559167</td>\n",
       "    </tr>\n",
       "  </tbody>\n",
       "</table>\n",
       "<p>122727 rows × 2 columns</p>\n",
       "</div>"
      ],
      "text/plain": [
       "                       Power   Prediction\n",
       "Fecha                                    \n",
       "2019-05-01 11:50:00  1907.57  1287.083750\n",
       "2019-05-01 12:00:00  1638.74  1293.736250\n",
       "2019-05-01 12:10:00  1410.02  1297.990278\n",
       "2019-05-01 12:20:00  1094.71  1297.652778\n",
       "2019-05-01 12:30:00  1440.44  1299.856667\n",
       "...                      ...          ...\n",
       "2021-09-30 23:10:00    52.39   413.432917\n",
       "2021-09-30 23:20:00   159.25   415.798889\n",
       "2021-09-30 23:30:00   246.98   419.390000\n",
       "2021-09-30 23:40:00    88.34   420.777778\n",
       "2021-09-30 23:50:00    90.62   420.559167\n",
       "\n",
       "[122727 rows x 2 columns]"
      ]
     },
     "execution_count": 70,
     "metadata": {},
     "output_type": "execute_result"
    }
   ],
   "source": [
    "baseline"
   ]
  },
  {
   "cell_type": "code",
   "execution_count": 83,
   "id": "13e20baf",
   "metadata": {
    "ExecuteTime": {
     "end_time": "2022-02-05T10:21:40.670074Z",
     "start_time": "2022-02-05T10:21:40.629833Z"
    }
   },
   "outputs": [
    {
     "name": "stdout",
     "output_type": "stream",
     "text": [
      "mae = 424.48346258814735\n",
      "Standard deviation = 661.4035157315992\n"
     ]
    }
   ],
   "source": [
    "y_true = baseline.Power\n",
    "y_pred = baseline.Prediction\n",
    "\n",
    "mae = mean_absolute_error(y_true, y_pred)\n",
    "\n",
    "std = baseline.Power.std()\n",
    "\n",
    "print('mae =' ,mae)\n",
    "print('Standard deviation =', std)"
   ]
  },
  {
   "cell_type": "code",
   "execution_count": null,
   "id": "47f781ad",
   "metadata": {},
   "outputs": [],
   "source": []
  }
 ],
 "metadata": {
  "kernelspec": {
   "display_name": "Python 3 (ipykernel)",
   "language": "python",
   "name": "python3"
  },
  "language_info": {
   "codemirror_mode": {
    "name": "ipython",
    "version": 3
   },
   "file_extension": ".py",
   "mimetype": "text/x-python",
   "name": "python",
   "nbconvert_exporter": "python",
   "pygments_lexer": "ipython3",
   "version": "3.8.11"
  },
  "toc": {
   "base_numbering": 1,
   "nav_menu": {},
   "number_sections": true,
   "sideBar": true,
   "skip_h1_title": false,
   "title_cell": "Table of Contents",
   "title_sidebar": "Contents",
   "toc_cell": false,
   "toc_position": {},
   "toc_section_display": true,
   "toc_window_display": false
  },
  "varInspector": {
   "cols": {
    "lenName": 16,
    "lenType": 16,
    "lenVar": 40
   },
   "kernels_config": {
    "python": {
     "delete_cmd_postfix": "",
     "delete_cmd_prefix": "del ",
     "library": "var_list.py",
     "varRefreshCmd": "print(var_dic_list())"
    },
    "r": {
     "delete_cmd_postfix": ") ",
     "delete_cmd_prefix": "rm(",
     "library": "var_list.r",
     "varRefreshCmd": "cat(var_dic_list()) "
    }
   },
   "types_to_exclude": [
    "module",
    "function",
    "builtin_function_or_method",
    "instance",
    "_Feature"
   ],
   "window_display": false
  }
 },
 "nbformat": 4,
 "nbformat_minor": 5
}
