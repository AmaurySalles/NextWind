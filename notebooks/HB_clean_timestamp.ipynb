{
 "cells": [
  {
   "cell_type": "code",
   "execution_count": 98,
   "id": "92d7ddd2",
   "metadata": {},
   "outputs": [],
   "source": [
    "import pandas as pd\n",
    "import numpy as np \n",
    "import matplotlib.pyplot as plt"
   ]
  },
  {
   "cell_type": "code",
   "execution_count": 181,
   "id": "7065e291",
   "metadata": {},
   "outputs": [],
   "source": [
    "import pandas as pd\n",
    "import numpy as np \n",
    "import matplotlib.pyplot as plt\n",
    "\n",
    "def clean_timestamps():\n",
    "    directory_path = \"../raw_data/drive-download-20220127T182127Z-001/\"\n",
    "    file_names = ['A01.csv','A02.csv','A03.csv','A04.csv','A05.csv','A06.csv','A07.csv','A08.csv','A09.csv','A10.csv','A11.csv','A12.csv','A13.csv','A14.csv','A15.csv','A16.csv','A17.csv','A18.csv','A19.csv','A20.csv','A21.csv','A22.csv','A23.csv','A24.csv','A25.csv']\n",
    "    results = {}\n",
    "    for file in file_names:\n",
    "       \n",
    "        df = pd.read_csv(directory_path+file)\n",
    "        df['Fecha'] = pd.to_datetime(df['Fecha'])\n",
    "        df.set_index('Fecha',inplace=True)\n",
    "        ref_date_range = pd.date_range(start='1/05/2019', end='30/09/2021',freq='10T')\n",
    "        ref_df = pd.DataFrame(index=ref_date_range)\n",
    "        clean_data = df.reindex(ref_df.index)\n",
    "        new_df = pd.merge(ref_df,clean_data,left_index=True, right_index=True,how='outer')\n",
    "        results[file] = new_df\n",
    "        \n",
    "    return results\n"
   ]
  },
  {
   "cell_type": "code",
   "execution_count": null,
   "id": "9dd6c534",
   "metadata": {},
   "outputs": [],
   "source": []
  }
 ],
 "metadata": {
  "kernelspec": {
   "display_name": "Python 3 (ipykernel)",
   "language": "python",
   "name": "python3"
  },
  "language_info": {
   "codemirror_mode": {
    "name": "ipython",
    "version": 3
   },
   "file_extension": ".py",
   "mimetype": "text/x-python",
   "name": "python",
   "nbconvert_exporter": "python",
   "pygments_lexer": "ipython3",
   "version": "3.8.12"
  },
  "toc": {
   "base_numbering": 1,
   "nav_menu": {},
   "number_sections": true,
   "sideBar": true,
   "skip_h1_title": false,
   "title_cell": "Table of Contents",
   "title_sidebar": "Contents",
   "toc_cell": false,
   "toc_position": {},
   "toc_section_display": true,
   "toc_window_display": false
  }
 },
 "nbformat": 4,
 "nbformat_minor": 5
}
