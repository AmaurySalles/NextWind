{
 "cells": [
  {
   "cell_type": "code",
   "execution_count": 3,
   "id": "7c0db558",
   "metadata": {},
   "outputs": [],
   "source": [
    "import pandas as pd\n",
    "import numpy as np\n",
    "import os"
   ]
  },
  {
   "cell_type": "code",
   "execution_count": 4,
   "id": "72feabf1",
   "metadata": {},
   "outputs": [],
   "source": [
    "def get_data():\n",
    "    # Take the parent dirname for the raw data\n",
    "    parentdir = os.path.dirname(os.path.abspath(\"__file__\"))\n",
    "    rawdir = os.path.join(parentdir,\"raw_data\")\n",
    "\n",
    "    # Output dict\n",
    "    all_WTG_data = {}\n",
    "    \n",
    "    # Append all csv data files to a dict(\"WTG_number\" : dataframe)\n",
    "    for root, directory, file in os.walk(rawdir):\n",
    "        for WTG_number in range (5):  # 5 to reduce load time, replace by `len(file)`\n",
    "            \n",
    "            # File for initial analysis\n",
    "            if 'raw_data.csv' in file[WTG_number]:\n",
    "                pass # No longer in use\n",
    "            \n",
    "            # File containing scaler fit data (no need for cleaning as there are no outliers)\n",
    "            # Format: timesteps concatenated / only 6 columns\n",
    "            elif 'fit_data.csv' in file[WTG_number]:\n",
    "                pass\n",
    "                # fit_data = pd.read_csv(root +'/' +file[WTG_number], \n",
    "                #                         index_col=0,\n",
    "                #                         parse_dates=True,\n",
    "                #                         dayfirst=True)\n",
    "                \n",
    "                # fit_data.rename(columns={\"Desalineación Nacelle y Dirección de Viento Media 10M\\n(°)\": \"Misalignment\",\n",
    "                #                         \"Media de Potencia Activa 10M\\n(kW)\": \"Power\",\n",
    "                #                         \"Posición Nacelle Media 10M\\n(°)\":\"Nacelle Orientation\",\n",
    "                #                         \"Velocidad Rotor Media 10M\\n(rpm)\":\"Rotor Speed\",\n",
    "                #                         \"Velocidad Viento Media 10M\\n(m/s)\":\"Wind Speed\",\n",
    "                #                         \"Ángulo Pitch Media 10M\\n(°)\":\"Blade Pitch\"},\n",
    "                #                         inplace=True)\n",
    "\n",
    "            \n",
    "            # Train/Val/Test dataset\n",
    "            # Format: Dataframe per WTG assembled in a dict(\"WTG_number\": dataframe)\n",
    "            elif 'csv' in file[WTG_number]:\n",
    "                data = pd.read_csv(root +'/' +file[WTG_number], \n",
    "                                    index_col=0,\n",
    "                                    parse_dates=True,\n",
    "                                    dayfirst=True)\n",
    "                \n",
    "                data.rename(columns={\"Desalineación Nacelle y Dirección de Viento Media 10M\\n(°)\": \"Misalignment\",\n",
    "                                     \"Media de Potencia Activa 10M\\n(kW)\": \"Power\",\n",
    "                                     \"Posición Nacelle Media 10M\\n(°)\":\"Nacelle Orientation\",\n",
    "                                     \"Velocidad Rotor Media 10M\\n(rpm)\":\"Rotor Speed\",\n",
    "                                     \"Velocidad Viento Media 10M\\n(m/s)\":\"Wind Speed\",\n",
    "                                     \"Ángulo Pitch Media 10M\\n(°)\":\"Blade Pitch\"},\n",
    "                                     inplace=True)\n",
    "\n",
    "                all_WTG_data[WTG_number] = data\n",
    "\n",
    "                # Prepare df containing scaler fit data (no need for cleaning as there are no outliers)\n",
    "                # Format: timesteps concatenated / only 6 columns\n",
    "                fit_data = pd.DataFrame()\n",
    "                for WTG_number in all_WTG_data:\n",
    "                    fit_data = pd.concat((fit_data,all_WTG_data[WTG_number]),ignore_index=True)\n",
    "    \n",
    "\n",
    "    return all_WTG_data, fit_data"
   ]
  },
  {
   "cell_type": "code",
   "execution_count": 5,
   "id": "8e7e5a34",
   "metadata": {},
   "outputs": [
    {
     "ename": "UnboundLocalError",
     "evalue": "local variable 'fit_data' referenced before assignment",
     "output_type": "error",
     "traceback": [
      "\u001b[0;31m---------------------------------------------------------------------------\u001b[0m",
      "\u001b[0;31mUnboundLocalError\u001b[0m                         Traceback (most recent call last)",
      "Input \u001b[0;32mIn [5]\u001b[0m, in \u001b[0;36m<module>\u001b[0;34m\u001b[0m\n\u001b[0;32m----> 1\u001b[0m all_WTG_data, fit_data \u001b[38;5;241m=\u001b[39m \u001b[43mget_data\u001b[49m\u001b[43m(\u001b[49m\u001b[43m)\u001b[49m\n",
      "Input \u001b[0;32mIn [4]\u001b[0m, in \u001b[0;36mget_data\u001b[0;34m()\u001b[0m\n\u001b[1;32m     56\u001b[0m             \u001b[38;5;28;01mfor\u001b[39;00m WTG_number \u001b[38;5;129;01min\u001b[39;00m all_WTG_data:\n\u001b[1;32m     57\u001b[0m                 fit_data \u001b[38;5;241m=\u001b[39m pd\u001b[38;5;241m.\u001b[39mconcat((fit_data,all_WTG_data[WTG_number]),ignore_index\u001b[38;5;241m=\u001b[39m\u001b[38;5;28;01mTrue\u001b[39;00m)\n\u001b[0;32m---> 60\u001b[0m \u001b[38;5;28;01mreturn\u001b[39;00m all_WTG_data, \u001b[43mfit_data\u001b[49m\n",
      "\u001b[0;31mUnboundLocalError\u001b[0m: local variable 'fit_data' referenced before assignment"
     ]
    }
   ],
   "source": [
    "all_WTG_data, fit_data = get_data()"
   ]
  },
  {
   "cell_type": "code",
   "execution_count": null,
   "id": "8b139984",
   "metadata": {},
   "outputs": [],
   "source": []
  },
  {
   "cell_type": "code",
   "execution_count": null,
   "id": "496ebac7",
   "metadata": {},
   "outputs": [],
   "source": []
  }
 ],
 "metadata": {
  "kernelspec": {
   "display_name": "Python 3 (ipykernel)",
   "language": "python",
   "name": "python3"
  },
  "language_info": {
   "codemirror_mode": {
    "name": "ipython",
    "version": 3
   },
   "file_extension": ".py",
   "mimetype": "text/x-python",
   "name": "python",
   "nbconvert_exporter": "python",
   "pygments_lexer": "ipython3",
   "version": "3.8.12"
  },
  "toc": {
   "base_numbering": 1,
   "nav_menu": {},
   "number_sections": true,
   "sideBar": true,
   "skip_h1_title": false,
   "title_cell": "Table of Contents",
   "title_sidebar": "Contents",
   "toc_cell": false,
   "toc_position": {},
   "toc_section_display": true,
   "toc_window_display": false
  }
 },
 "nbformat": 4,
 "nbformat_minor": 5
}
