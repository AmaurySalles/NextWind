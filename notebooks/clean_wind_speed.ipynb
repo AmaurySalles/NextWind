{
 "cells": [
  {
   "cell_type": "code",
   "execution_count": 147,
   "id": "1f72c76c",
   "metadata": {
    "ExecuteTime": {
     "end_time": "2022-01-28T11:20:28.680460Z",
     "start_time": "2022-01-28T11:20:28.677351Z"
    }
   },
   "outputs": [],
   "source": [
    "import pandas as pd\n",
    "import os\n",
    "import numpy as np\n",
    "import math\n",
    "import statistics"
   ]
  },
  {
   "cell_type": "code",
   "execution_count": 148,
   "id": "9b9027e7",
   "metadata": {
    "ExecuteTime": {
     "end_time": "2022-01-28T11:20:29.179859Z",
     "start_time": "2022-01-28T11:20:29.056594Z"
    }
   },
   "outputs": [],
   "source": [
    "turbine = pd.read_csv('/Users/elliotbettane/code/AmaurySalles/projectwind/raw_data/A01.csv')"
   ]
  },
  {
   "cell_type": "code",
   "execution_count": 149,
   "id": "1ad0a257",
   "metadata": {
    "ExecuteTime": {
     "end_time": "2022-01-28T11:20:29.846151Z",
     "start_time": "2022-01-28T11:20:29.835895Z"
    }
   },
   "outputs": [
    {
     "data": {
      "text/html": [
       "<div>\n",
       "<style scoped>\n",
       "    .dataframe tbody tr th:only-of-type {\n",
       "        vertical-align: middle;\n",
       "    }\n",
       "\n",
       "    .dataframe tbody tr th {\n",
       "        vertical-align: top;\n",
       "    }\n",
       "\n",
       "    .dataframe thead th {\n",
       "        text-align: right;\n",
       "    }\n",
       "</style>\n",
       "<table border=\"1\" class=\"dataframe\">\n",
       "  <thead>\n",
       "    <tr style=\"text-align: right;\">\n",
       "      <th></th>\n",
       "      <th>Fecha</th>\n",
       "      <th>Desalineación Nacelle y Dirección de Viento Media 10M\\n(°)</th>\n",
       "      <th>Media de Potencia Activa 10M\\n(kW)</th>\n",
       "      <th>Posición Nacelle Media 10M\\n(°)</th>\n",
       "      <th>Velocidad Rotor Media 10M\\n(rpm)</th>\n",
       "      <th>Velocidad Viento Media 10M\\n(m/s)</th>\n",
       "      <th>Ángulo Pitch Media 10M\\n(°)</th>\n",
       "    </tr>\n",
       "  </thead>\n",
       "  <tbody>\n",
       "    <tr>\n",
       "      <th>0</th>\n",
       "      <td>01/05/19 00:00</td>\n",
       "      <td>358.0715</td>\n",
       "      <td>1357.58</td>\n",
       "      <td>194.0</td>\n",
       "      <td>11.9402</td>\n",
       "      <td>8.8033</td>\n",
       "      <td>-0.7947</td>\n",
       "    </tr>\n",
       "    <tr>\n",
       "      <th>1</th>\n",
       "      <td>01/05/19 00:10</td>\n",
       "      <td>2.6265</td>\n",
       "      <td>1252.87</td>\n",
       "      <td>194.0</td>\n",
       "      <td>11.5805</td>\n",
       "      <td>8.1260</td>\n",
       "      <td>-0.4205</td>\n",
       "    </tr>\n",
       "    <tr>\n",
       "      <th>2</th>\n",
       "      <td>01/05/19 00:20</td>\n",
       "      <td>1.8523</td>\n",
       "      <td>1661.33</td>\n",
       "      <td>194.0</td>\n",
       "      <td>12.6022</td>\n",
       "      <td>9.0940</td>\n",
       "      <td>-0.3575</td>\n",
       "    </tr>\n",
       "    <tr>\n",
       "      <th>3</th>\n",
       "      <td>01/05/19 00:30</td>\n",
       "      <td>355.8858</td>\n",
       "      <td>1863.22</td>\n",
       "      <td>194.0</td>\n",
       "      <td>12.8703</td>\n",
       "      <td>10.1518</td>\n",
       "      <td>0.6357</td>\n",
       "    </tr>\n",
       "    <tr>\n",
       "      <th>4</th>\n",
       "      <td>01/05/19 00:40</td>\n",
       "      <td>358.1590</td>\n",
       "      <td>1942.12</td>\n",
       "      <td>194.0</td>\n",
       "      <td>12.9663</td>\n",
       "      <td>10.0442</td>\n",
       "      <td>0.4199</td>\n",
       "    </tr>\n",
       "  </tbody>\n",
       "</table>\n",
       "</div>"
      ],
      "text/plain": [
       "            Fecha  Desalineación Nacelle y Dirección de Viento Media 10M\\n(°)  \\\n",
       "0  01/05/19 00:00                                           358.0715            \n",
       "1  01/05/19 00:10                                             2.6265            \n",
       "2  01/05/19 00:20                                             1.8523            \n",
       "3  01/05/19 00:30                                           355.8858            \n",
       "4  01/05/19 00:40                                           358.1590            \n",
       "\n",
       "   Media de Potencia Activa 10M\\n(kW)  Posición Nacelle Media 10M\\n(°)  \\\n",
       "0                             1357.58                            194.0   \n",
       "1                             1252.87                            194.0   \n",
       "2                             1661.33                            194.0   \n",
       "3                             1863.22                            194.0   \n",
       "4                             1942.12                            194.0   \n",
       "\n",
       "   Velocidad Rotor Media 10M\\n(rpm)  Velocidad Viento Media 10M\\n(m/s)  \\\n",
       "0                           11.9402                             8.8033   \n",
       "1                           11.5805                             8.1260   \n",
       "2                           12.6022                             9.0940   \n",
       "3                           12.8703                            10.1518   \n",
       "4                           12.9663                            10.0442   \n",
       "\n",
       "   Ángulo Pitch Media 10M\\n(°)  \n",
       "0                      -0.7947  \n",
       "1                      -0.4205  \n",
       "2                      -0.3575  \n",
       "3                       0.6357  \n",
       "4                       0.4199  "
      ]
     },
     "execution_count": 149,
     "metadata": {},
     "output_type": "execute_result"
    }
   ],
   "source": [
    "turbine.head()"
   ]
  },
  {
   "cell_type": "code",
   "execution_count": 152,
   "id": "982a5814",
   "metadata": {
    "ExecuteTime": {
     "end_time": "2022-01-28T11:20:56.094889Z",
     "start_time": "2022-01-28T11:20:56.070548Z"
    }
   },
   "outputs": [
    {
     "data": {
      "text/plain": [
       "Fecha                                                         0\n",
       "Desalineación Nacelle y Dirección de Viento Media 10M\\n(°)    1\n",
       "Media de Potencia Activa 10M\\n(kW)                            0\n",
       "Posición Nacelle Media 10M\\n(°)                               5\n",
       "Velocidad Rotor Media 10M\\n(rpm)                              2\n",
       "Velocidad Viento Media 10M\\n(m/s)                             1\n",
       "Ángulo Pitch Media 10M\\n(°)                                   3\n",
       "dtype: int64"
      ]
     },
     "execution_count": 152,
     "metadata": {},
     "output_type": "execute_result"
    }
   ],
   "source": [
    "turbine.isnull().sum()"
   ]
  },
  {
   "cell_type": "code",
   "execution_count": 142,
   "id": "683b24eb",
   "metadata": {
    "ExecuteTime": {
     "end_time": "2022-01-28T11:13:11.552555Z",
     "start_time": "2022-01-28T11:13:10.746997Z"
    }
   },
   "outputs": [
    {
     "name": "stderr",
     "output_type": "stream",
     "text": [
      "/var/folders/ng/p31bnd8n1239g9smsknq3k600000gn/T/ipykernel_88894/253492747.py:3: SettingWithCopyWarning: \n",
      "A value is trying to be set on a copy of a slice from a DataFrame\n",
      "\n",
      "See the caveats in the documentation: https://pandas.pydata.org/pandas-docs/stable/user_guide/indexing.html#returning-a-view-versus-a-copy\n",
      "  turbine['Velocidad Viento Media 10M\\n(m/s)'][i] = (turbine['Velocidad Viento Media 10M\\n(m/s)'][i-1] + turbine['Velocidad Viento Media 10M\\n(m/s)'][i+1])/2\n"
     ]
    }
   ],
   "source": [
    "for i in range(len(turbine[['Velocidad Viento Media 10M\\n(m/s)']])):\n",
    "    if turbine['Velocidad Viento Media 10M\\n(m/s)'][i] == '' :\n",
    "        turbine['Velocidad Viento Media 10M\\n(m/s)'][i] = (turbine['Velocidad Viento Media 10M\\n(m/s)'][i-1] + turbine['Velocidad Viento Media 10M\\n(m/s)'][i+1])/2\n",
    "    \n",
    "        \n"
   ]
  },
  {
   "cell_type": "code",
   "execution_count": 154,
   "id": "31f3a9b4",
   "metadata": {
    "ExecuteTime": {
     "end_time": "2022-01-28T11:21:48.083944Z",
     "start_time": "2022-01-28T11:21:48.079606Z"
    }
   },
   "outputs": [],
   "source": [
    "def fill_na_with_mean(column):\n",
    "    column.fillna('', inplace=True)\n",
    "    for i in range(len(column)):\n",
    "          if column[i] == '' :\n",
    "                column[i] = (column[i-1] + column[i+1])/2\n",
    "    return column"
   ]
  },
  {
   "cell_type": "code",
   "execution_count": 157,
   "id": "2b8296d4",
   "metadata": {
    "ExecuteTime": {
     "end_time": "2022-01-28T11:22:04.759308Z",
     "start_time": "2022-01-28T11:22:04.223109Z"
    }
   },
   "outputs": [],
   "source": [
    "a = fill_na_with_mean(turbine['Velocidad Viento Media 10M\\n(m/s)'])"
   ]
  },
  {
   "cell_type": "code",
   "execution_count": 161,
   "id": "0aca77fe",
   "metadata": {
    "ExecuteTime": {
     "end_time": "2022-01-28T11:22:23.792939Z",
     "start_time": "2022-01-28T11:22:23.788293Z"
    }
   },
   "outputs": [
    {
     "data": {
      "text/plain": [
       "False"
      ]
     },
     "execution_count": 161,
     "metadata": {},
     "output_type": "execute_result"
    }
   ],
   "source": [
    "a.isna().values.any()"
   ]
  },
  {
   "cell_type": "code",
   "execution_count": null,
   "id": "41e08352",
   "metadata": {},
   "outputs": [],
   "source": []
  }
 ],
 "metadata": {
  "kernelspec": {
   "display_name": "Python 3 (ipykernel)",
   "language": "python",
   "name": "python3"
  },
  "language_info": {
   "codemirror_mode": {
    "name": "ipython",
    "version": 3
   },
   "file_extension": ".py",
   "mimetype": "text/x-python",
   "name": "python",
   "nbconvert_exporter": "python",
   "pygments_lexer": "ipython3",
   "version": "3.8.11"
  },
  "toc": {
   "base_numbering": 1,
   "nav_menu": {},
   "number_sections": true,
   "sideBar": true,
   "skip_h1_title": false,
   "title_cell": "Table of Contents",
   "title_sidebar": "Contents",
   "toc_cell": false,
   "toc_position": {},
   "toc_section_display": true,
   "toc_window_display": false
  },
  "varInspector": {
   "cols": {
    "lenName": 16,
    "lenType": 16,
    "lenVar": 40
   },
   "kernels_config": {
    "python": {
     "delete_cmd_postfix": "",
     "delete_cmd_prefix": "del ",
     "library": "var_list.py",
     "varRefreshCmd": "print(var_dic_list())"
    },
    "r": {
     "delete_cmd_postfix": ") ",
     "delete_cmd_prefix": "rm(",
     "library": "var_list.r",
     "varRefreshCmd": "cat(var_dic_list()) "
    }
   },
   "types_to_exclude": [
    "module",
    "function",
    "builtin_function_or_method",
    "instance",
    "_Feature"
   ],
   "window_display": false
  }
 },
 "nbformat": 4,
 "nbformat_minor": 5
}
