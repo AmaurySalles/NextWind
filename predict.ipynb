{
 "cells": [
  {
   "cell_type": "code",
   "execution_count": 1,
   "id": "a92e2942",
   "metadata": {
    "ExecuteTime": {
     "end_time": "2022-02-19T14:00:41.174609Z",
     "start_time": "2022-02-19T14:00:41.150989Z"
    }
   },
   "outputs": [],
   "source": [
    "%load_ext autoreload\n",
    "%autoreload 2"
   ]
  },
  {
   "cell_type": "code",
   "execution_count": 2,
   "id": "3825039b",
   "metadata": {
    "ExecuteTime": {
     "end_time": "2022-02-19T14:00:47.065055Z",
     "start_time": "2022-02-19T14:00:41.343864Z"
    }
   },
   "outputs": [],
   "source": [
    "import os\n",
    "from math import sqrt\n",
    "import joblib\n",
    "from projectwind.LSTM_weather_forecast import get_LSTM_data, WindowGenerator\n",
    "from google.cloud import storage\n",
    "from sklearn.metrics import mean_absolute_error, mean_squared_error\n",
    "import tensorflow as tf\n"
   ]
  },
  {
   "cell_type": "code",
   "execution_count": 3,
   "id": "a6c4708c",
   "metadata": {
    "ExecuteTime": {
     "end_time": "2022-02-19T14:04:28.691259Z",
     "start_time": "2022-02-19T14:00:47.121847Z"
    }
   },
   "outputs": [
    {
     "name": "stdout",
     "output_type": "stream",
     "text": [
      "### Fetching 25xWTG data ###\n",
      "### Fetching weather API data ###\n",
      "### Preparing datasets ###\n"
     ]
    }
   ],
   "source": [
    "train_df, val_df, test_df = get_LSTM_data()"
   ]
  },
  {
   "cell_type": "code",
   "execution_count": 5,
   "id": "625df590",
   "metadata": {
    "ExecuteTime": {
     "end_time": "2022-02-19T14:04:48.358554Z",
     "start_time": "2022-02-19T14:04:48.294760Z"
    }
   },
   "outputs": [],
   "source": [
    "# Create window\n",
    "n_steps_in = 3 * 24   # hrs\n",
    "n_steps_out = 6   # hrs\n",
    "window = WindowGenerator(input_width=n_steps_in, label_width=n_steps_out, shift=n_steps_out,\n",
    "                         train_df=train_df, val_df=val_df, test_df=test_df,\n",
    "                         input_columns=[]\n",
    "                         forecast_columns=['windSpeed_API','windGust_API',\n",
    "                                        'Wind_API_X', 'Wind_API_Y',\n",
    "                                        'WindGust_API_X','WindGust_API_Y'],\n",
    "                         label_columns=['Power'])\n"
   ]
  },
  {
   "cell_type": "code",
   "execution_count": 16,
   "id": "9b19fb9a",
   "metadata": {
    "ExecuteTime": {
     "end_time": "2022-02-19T14:19:10.361729Z",
     "start_time": "2022-02-19T14:19:10.289810Z"
    }
   },
   "outputs": [
    {
     "data": {
      "text/plain": [
       "Index(['Power', 'Rotor Speed', 'Wind Speed', 'Blade Pitch', 'Nacelle_X',\n",
       "       'Nacelle_Y', 'Wind_X', 'Wind_Y', 'windSpeed_API', 'windGust_API',\n",
       "       'Wind_API_X', 'Wind_API_Y', 'WindGust_API_X', 'WindGust_API_Y'],\n",
       "      dtype='object')"
      ]
     },
     "execution_count": 16,
     "metadata": {},
     "output_type": "execute_result"
    }
   ],
   "source": [
    "train_df[0].columns"
   ]
  },
  {
   "cell_type": "code",
   "execution_count": 15,
   "id": "5464782e",
   "metadata": {
    "ExecuteTime": {
     "end_time": "2022-02-19T14:11:43.033076Z",
     "start_time": "2022-02-19T14:11:36.760933Z"
    }
   },
   "outputs": [
    {
     "ename": "ValueError",
     "evalue": "in user code:\n\n    File \"/Users/elliotbettane/.pyenv/versions/3.8.11/envs/projectwind/lib/python3.8/site-packages/keras/engine/training.py\", line 1801, in predict_function  *\n        return step_function(self, iterator)\n    File \"/Users/elliotbettane/.pyenv/versions/3.8.11/envs/projectwind/lib/python3.8/site-packages/keras/engine/training.py\", line 1790, in step_function  **\n        outputs = model.distribute_strategy.run(run_step, args=(data,))\n    File \"/Users/elliotbettane/.pyenv/versions/3.8.11/envs/projectwind/lib/python3.8/site-packages/keras/engine/training.py\", line 1783, in run_step  **\n        outputs = model.predict_step(data)\n    File \"/Users/elliotbettane/.pyenv/versions/3.8.11/envs/projectwind/lib/python3.8/site-packages/keras/engine/training.py\", line 1751, in predict_step\n        return self(x, training=False)\n    File \"/Users/elliotbettane/.pyenv/versions/3.8.11/envs/projectwind/lib/python3.8/site-packages/keras/utils/traceback_utils.py\", line 67, in error_handler\n        raise e.with_traceback(filtered_tb) from None\n    File \"/Users/elliotbettane/.pyenv/versions/3.8.11/envs/projectwind/lib/python3.8/site-packages/keras/engine/input_spec.py\", line 264, in assert_input_compatibility\n        raise ValueError(f'Input {input_index} of layer \"{layer_name}\" is '\n\n    ValueError: Input 0 of layer \"model_8\" is incompatible with the layer: expected shape=(None, 288, 7), found shape=(1, 72, 14)\n",
     "output_type": "error",
     "traceback": [
      "\u001b[0;31m---------------------------------------------------------------------------\u001b[0m",
      "\u001b[0;31mValueError\u001b[0m                                Traceback (most recent call last)",
      "Input \u001b[0;32mIn [15]\u001b[0m, in \u001b[0;36m<module>\u001b[0;34m\u001b[0m\n\u001b[1;32m      4\u001b[0m \u001b[38;5;66;03m#Load model\u001b[39;00m\n\u001b[1;32m      5\u001b[0m model \u001b[38;5;241m=\u001b[39m tf\u001b[38;5;241m.\u001b[39mkeras\u001b[38;5;241m.\u001b[39mmodels\u001b[38;5;241m.\u001b[39mload_model(\u001b[38;5;124m'\u001b[39m\u001b[38;5;124mcheckpoints/Oracle_model/LSTM_Forecast_Hybrid_num_3Lx16N_fc_2Lx54-18N_2x02do.h5\u001b[39m\u001b[38;5;124m'\u001b[39m)\n\u001b[0;32m----> 7\u001b[0m y_pred \u001b[38;5;241m=\u001b[39m \u001b[43mmodel\u001b[49m\u001b[38;5;241;43m.\u001b[39;49m\u001b[43mpredict\u001b[49m\u001b[43m(\u001b[49m\u001b[43m[\u001b[49m\u001b[43mX_test\u001b[49m\u001b[43m,\u001b[49m\u001b[43m \u001b[49m\u001b[43mX_fc_test\u001b[49m\u001b[43m]\u001b[49m\u001b[43m,\u001b[49m\u001b[43m \u001b[49m\u001b[43mbatch_size\u001b[49m\u001b[38;5;241;43m=\u001b[39;49m\u001b[38;5;241;43m1\u001b[39;49m\u001b[43m)\u001b[49m\n",
      "File \u001b[0;32m~/.pyenv/versions/3.8.11/envs/projectwind/lib/python3.8/site-packages/keras/utils/traceback_utils.py:67\u001b[0m, in \u001b[0;36mfilter_traceback.<locals>.error_handler\u001b[0;34m(*args, **kwargs)\u001b[0m\n\u001b[1;32m     65\u001b[0m \u001b[38;5;28;01mexcept\u001b[39;00m \u001b[38;5;167;01mException\u001b[39;00m \u001b[38;5;28;01mas\u001b[39;00m e:  \u001b[38;5;66;03m# pylint: disable=broad-except\u001b[39;00m\n\u001b[1;32m     66\u001b[0m   filtered_tb \u001b[38;5;241m=\u001b[39m _process_traceback_frames(e\u001b[38;5;241m.\u001b[39m__traceback__)\n\u001b[0;32m---> 67\u001b[0m   \u001b[38;5;28;01mraise\u001b[39;00m e\u001b[38;5;241m.\u001b[39mwith_traceback(filtered_tb) \u001b[38;5;28;01mfrom\u001b[39;00m \u001b[38;5;28mNone\u001b[39m\n\u001b[1;32m     68\u001b[0m \u001b[38;5;28;01mfinally\u001b[39;00m:\n\u001b[1;32m     69\u001b[0m   \u001b[38;5;28;01mdel\u001b[39;00m filtered_tb\n",
      "File \u001b[0;32m~/.pyenv/versions/3.8.11/envs/projectwind/lib/python3.8/site-packages/tensorflow/python/framework/func_graph.py:1147\u001b[0m, in \u001b[0;36mfunc_graph_from_py_func.<locals>.autograph_handler\u001b[0;34m(*args, **kwargs)\u001b[0m\n\u001b[1;32m   1145\u001b[0m \u001b[38;5;28;01mexcept\u001b[39;00m \u001b[38;5;167;01mException\u001b[39;00m \u001b[38;5;28;01mas\u001b[39;00m e:  \u001b[38;5;66;03m# pylint:disable=broad-except\u001b[39;00m\n\u001b[1;32m   1146\u001b[0m   \u001b[38;5;28;01mif\u001b[39;00m \u001b[38;5;28mhasattr\u001b[39m(e, \u001b[38;5;124m\"\u001b[39m\u001b[38;5;124mag_error_metadata\u001b[39m\u001b[38;5;124m\"\u001b[39m):\n\u001b[0;32m-> 1147\u001b[0m     \u001b[38;5;28;01mraise\u001b[39;00m e\u001b[38;5;241m.\u001b[39mag_error_metadata\u001b[38;5;241m.\u001b[39mto_exception(e)\n\u001b[1;32m   1148\u001b[0m   \u001b[38;5;28;01melse\u001b[39;00m:\n\u001b[1;32m   1149\u001b[0m     \u001b[38;5;28;01mraise\u001b[39;00m\n",
      "\u001b[0;31mValueError\u001b[0m: in user code:\n\n    File \"/Users/elliotbettane/.pyenv/versions/3.8.11/envs/projectwind/lib/python3.8/site-packages/keras/engine/training.py\", line 1801, in predict_function  *\n        return step_function(self, iterator)\n    File \"/Users/elliotbettane/.pyenv/versions/3.8.11/envs/projectwind/lib/python3.8/site-packages/keras/engine/training.py\", line 1790, in step_function  **\n        outputs = model.distribute_strategy.run(run_step, args=(data,))\n    File \"/Users/elliotbettane/.pyenv/versions/3.8.11/envs/projectwind/lib/python3.8/site-packages/keras/engine/training.py\", line 1783, in run_step  **\n        outputs = model.predict_step(data)\n    File \"/Users/elliotbettane/.pyenv/versions/3.8.11/envs/projectwind/lib/python3.8/site-packages/keras/engine/training.py\", line 1751, in predict_step\n        return self(x, training=False)\n    File \"/Users/elliotbettane/.pyenv/versions/3.8.11/envs/projectwind/lib/python3.8/site-packages/keras/utils/traceback_utils.py\", line 67, in error_handler\n        raise e.with_traceback(filtered_tb) from None\n    File \"/Users/elliotbettane/.pyenv/versions/3.8.11/envs/projectwind/lib/python3.8/site-packages/keras/engine/input_spec.py\", line 264, in assert_input_compatibility\n        raise ValueError(f'Input {input_index} of layer \"{layer_name}\" is '\n\n    ValueError: Input 0 of layer \"model_8\" is incompatible with the layer: expected shape=(None, 288, 7), found shape=(1, 72, 14)\n"
     ]
    }
   ],
   "source": [
    "# Fetch test data\n",
    "X_test,  X_fc_test,  y_test  =  window.test\n",
    "\n",
    "#Load model\n",
    "model = tf.keras.models.load_model('checkpoints/Oracle_model/LSTM_Forecast_Hybrid_num_3Lx16N_fc_2Lx54-18N_2x02do.h5')\n",
    "\n",
    "y_pred = model.predict([X_test, X_fc_test], batch_size=1)"
   ]
  },
  {
   "cell_type": "code",
   "execution_count": null,
   "id": "802d3fd4",
   "metadata": {},
   "outputs": [],
   "source": [
    "def download_model(model_directory=\"PipelineTest\", bucket=BUCKET_NAME, rm=True):\n",
    "    client = storage.Client().bucket(bucket)\n",
    "\n",
    "    storage_location = 'models/{}/versions/{}/{}'.format(\n",
    "        model,\n",
    "        model_directory,\n",
    "        'model.joblib')\n",
    "    blob = client.blob(storage_location)\n",
    "    blob.download_to_filename('model.joblib')\n",
    "    print(\"=> pipeline downloaded from storage\")\n",
    "    model = joblib.load('model.joblib')\n",
    "    if rm:\n",
    "        os.remove('model.joblib')\n",
    "    return model"
   ]
  },
  {
   "cell_type": "code",
   "execution_count": null,
   "id": "4599084e",
   "metadata": {},
   "outputs": [],
   "source": [
    "def get_model(path_to_joblib):\n",
    "    pipeline = joblib.load(path_to_joblib)\n",
    "    return pipeline\n"
   ]
  },
  {
   "cell_type": "code",
   "execution_count": null,
   "id": "c0d14554",
   "metadata": {},
   "outputs": [],
   "source": [
    "def evaluate_model(y, y_pred):\n",
    "    MAE = round(mean_absolute_error(y, y_pred), 2)\n",
    "    RMSE = round(sqrt(mean_squared_error(y, y_pred)), 2)\n",
    "    res = {'MAE': MAE, 'RMSE': RMSE}\n",
    "    return res"
   ]
  },
  {
   "cell_type": "code",
   "execution_count": null,
   "id": "56299fd2",
   "metadata": {},
   "outputs": [],
   "source": []
  },
  {
   "cell_type": "code",
   "execution_count": null,
   "id": "421e9f16",
   "metadata": {},
   "outputs": [],
   "source": []
  },
  {
   "cell_type": "code",
   "execution_count": null,
   "id": "d307fd28",
   "metadata": {},
   "outputs": [],
   "source": []
  },
  {
   "cell_type": "code",
   "execution_count": null,
   "id": "66808f82",
   "metadata": {},
   "outputs": [],
   "source": []
  },
  {
   "cell_type": "code",
   "execution_count": null,
   "id": "b4b96476",
   "metadata": {},
   "outputs": [],
   "source": []
  },
  {
   "cell_type": "code",
   "execution_count": null,
   "id": "19f84742",
   "metadata": {},
   "outputs": [],
   "source": []
  }
 ],
 "metadata": {
  "kernelspec": {
   "display_name": "Python 3 (ipykernel)",
   "language": "python",
   "name": "python3"
  },
  "language_info": {
   "codemirror_mode": {
    "name": "ipython",
    "version": 3
   },
   "file_extension": ".py",
   "mimetype": "text/x-python",
   "name": "python",
   "nbconvert_exporter": "python",
   "pygments_lexer": "ipython3",
   "version": "3.8.11"
  },
  "toc": {
   "base_numbering": 1,
   "nav_menu": {},
   "number_sections": true,
   "sideBar": true,
   "skip_h1_title": false,
   "title_cell": "Table of Contents",
   "title_sidebar": "Contents",
   "toc_cell": false,
   "toc_position": {},
   "toc_section_display": true,
   "toc_window_display": false
  },
  "varInspector": {
   "cols": {
    "lenName": 16,
    "lenType": 16,
    "lenVar": 40
   },
   "kernels_config": {
    "python": {
     "delete_cmd_postfix": "",
     "delete_cmd_prefix": "del ",
     "library": "var_list.py",
     "varRefreshCmd": "print(var_dic_list())"
    },
    "r": {
     "delete_cmd_postfix": ") ",
     "delete_cmd_prefix": "rm(",
     "library": "var_list.r",
     "varRefreshCmd": "cat(var_dic_list()) "
    }
   },
   "types_to_exclude": [
    "module",
    "function",
    "builtin_function_or_method",
    "instance",
    "_Feature"
   ],
   "window_display": false
  }
 },
 "nbformat": 4,
 "nbformat_minor": 5
}
