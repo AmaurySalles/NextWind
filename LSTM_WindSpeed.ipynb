{
 "cells": [
  {
   "cell_type": "code",
   "execution_count": 1,
   "id": "9f2e4237-68ec-4c82-bb0f-da3bc2d39903",
   "metadata": {},
   "outputs": [],
   "source": [
    "%reload_ext autoreload\n",
    "%autoreload 2"
   ]
  },
  {
   "cell_type": "code",
   "execution_count": 2,
   "id": "3729c119-6663-43be-8411-d72be536dc10",
   "metadata": {},
   "outputs": [],
   "source": [
    "import wandb\n",
    "from wandb.keras import WandbCallback"
   ]
  },
  {
   "cell_type": "code",
   "execution_count": 3,
   "id": "1f8636ab-28b2-4400-b8ae-c6996add08b3",
   "metadata": {},
   "outputs": [],
   "source": [
    "import pandas as pd\n",
    "import numpy as np\n",
    "from numpy import load\n",
    "import matplotlib.pyplot as plt\n",
    "import tensorflow as tf\n",
    "import tensorflow_addons as tfa"
   ]
  },
  {
   "cell_type": "code",
   "execution_count": 4,
   "id": "05fdfe73-91b3-4626-8b19-e9daae1fe78d",
   "metadata": {},
   "outputs": [],
   "source": [
    "from projectwind.LSTM_weather_forecast import WindowGenerator, get_LSTM_data\n",
    "from projectwind.trainer import plot_loss"
   ]
  },
  {
   "cell_type": "markdown",
   "id": "3d9c501a-7378-4530-ad25-a2ea4549bc14",
   "metadata": {},
   "source": [
    "# Get Data"
   ]
  },
  {
   "cell_type": "code",
   "execution_count": 5,
   "id": "f244f712-79bd-4738-b783-29d5d8de6e5a",
   "metadata": {},
   "outputs": [
    {
     "name": "stdout",
     "output_type": "stream",
     "text": [
      "### Fetching 25xWTG data ###\n",
      "### Fetching weather API data ###\n",
      "### Preparing datasets ###\n"
     ]
    }
   ],
   "source": [
    "train_df, val_df, test_df = get_LSTM_data(25)"
   ]
  },
  {
   "cell_type": "markdown",
   "id": "4721ec14-8527-4ce7-8c7a-b8b3303cfd01",
   "metadata": {},
   "source": [
    "### Select window and prepare sequences"
   ]
  },
  {
   "cell_type": "code",
   "execution_count": 6,
   "id": "785e1f59-5edd-4c1b-8ee1-499e41d54e13",
   "metadata": {},
   "outputs": [
    {
     "data": {
      "text/plain": [
       "Index(['Power', 'Rotor Speed', 'Wind Speed', 'Blade Pitch', 'M100 [m/s]',\n",
       "       'Nacelle_X', 'Nacelle_Y', 'Wind_X', 'Wind_Y', 'MERA2_X', 'MERA2_Y'],\n",
       "      dtype='object')"
      ]
     },
     "execution_count": 6,
     "metadata": {},
     "output_type": "execute_result"
    }
   ],
   "source": [
    "train_df[0].columns"
   ]
  },
  {
   "cell_type": "code",
   "execution_count": 7,
   "id": "99763e9e-c614-439a-8642-f86c46f6c1da",
   "metadata": {},
   "outputs": [],
   "source": [
    "n_steps_in =  12   # hrs \n",
    "n_steps_out = 12   # hrs\n",
    "\n",
    "window = WindowGenerator(input_width=n_steps_in, label_width=n_steps_out, shift=0,\n",
    "                         train_df=train_df, val_df=val_df, test_df=test_df,\n",
    "                         input_columns=['M100 [m/s]'],\n",
    "                         label_columns=['Wind Speed'])"
   ]
  },
  {
   "cell_type": "code",
   "execution_count": 8,
   "id": "a4f5481f-7be7-4d62-8bb0-dec97f15e5e1",
   "metadata": {},
   "outputs": [
    {
     "data": {
      "text/plain": [
       "Total window size: 12\n",
       "Input column name(s): ['M100 [m/s]']\n",
       "Input indices: [ 0  1  2  3  4  5  6  7  8  9 10 11]\n",
       "Label column name(s): ['Wind Speed']\n",
       "Label indices: [ 0  1  2  3  4  5  6  7  8  9 10 11]"
      ]
     },
     "execution_count": 8,
     "metadata": {},
     "output_type": "execute_result"
    }
   ],
   "source": [
    "window"
   ]
  },
  {
   "cell_type": "code",
   "execution_count": 9,
   "id": "375b8c6d-9974-4629-9a3c-786613548105",
   "metadata": {},
   "outputs": [
    {
     "name": "stderr",
     "output_type": "stream",
     "text": [
      "2022-02-24 16:18:49.046321: I tensorflow/stream_executor/cuda/cuda_gpu_executor.cc:937] successful NUMA node read from SysFS had negative value (-1), but there must be at least one NUMA node, so returning NUMA node zero\n",
      "2022-02-24 16:18:49.054991: I tensorflow/stream_executor/cuda/cuda_gpu_executor.cc:937] successful NUMA node read from SysFS had negative value (-1), but there must be at least one NUMA node, so returning NUMA node zero\n",
      "2022-02-24 16:18:49.055627: I tensorflow/stream_executor/cuda/cuda_gpu_executor.cc:937] successful NUMA node read from SysFS had negative value (-1), but there must be at least one NUMA node, so returning NUMA node zero\n",
      "2022-02-24 16:18:49.057175: I tensorflow/core/platform/cpu_feature_guard.cc:142] This TensorFlow binary is optimized with oneAPI Deep Neural Network Library (oneDNN) to use the following CPU instructions in performance-critical operations:  AVX2 FMA\n",
      "To enable them in other operations, rebuild TensorFlow with the appropriate compiler flags.\n",
      "2022-02-24 16:18:49.057699: I tensorflow/stream_executor/cuda/cuda_gpu_executor.cc:937] successful NUMA node read from SysFS had negative value (-1), but there must be at least one NUMA node, so returning NUMA node zero\n",
      "2022-02-24 16:18:49.058337: I tensorflow/stream_executor/cuda/cuda_gpu_executor.cc:937] successful NUMA node read from SysFS had negative value (-1), but there must be at least one NUMA node, so returning NUMA node zero\n",
      "2022-02-24 16:18:49.059008: I tensorflow/stream_executor/cuda/cuda_gpu_executor.cc:937] successful NUMA node read from SysFS had negative value (-1), but there must be at least one NUMA node, so returning NUMA node zero\n",
      "2022-02-24 16:18:49.472417: I tensorflow/stream_executor/cuda/cuda_gpu_executor.cc:937] successful NUMA node read from SysFS had negative value (-1), but there must be at least one NUMA node, so returning NUMA node zero\n",
      "2022-02-24 16:18:49.473087: I tensorflow/stream_executor/cuda/cuda_gpu_executor.cc:937] successful NUMA node read from SysFS had negative value (-1), but there must be at least one NUMA node, so returning NUMA node zero\n",
      "2022-02-24 16:18:49.473625: I tensorflow/stream_executor/cuda/cuda_gpu_executor.cc:937] successful NUMA node read from SysFS had negative value (-1), but there must be at least one NUMA node, so returning NUMA node zero\n",
      "2022-02-24 16:18:49.474143: I tensorflow/core/common_runtime/gpu/gpu_device.cc:1510] Created device /job:localhost/replica:0/task:0/device:GPU:0 with 12764 MB memory:  -> device: 0, name: Tesla T4, pci bus id: 0000:00:04.0, compute capability: 7.5\n",
      "2022-02-24 16:18:49.764611: I tensorflow/compiler/mlir/mlir_graph_optimization_pass.cc:185] None of the MLIR Optimization Passes are enabled (registered 2)\n"
     ]
    }
   ],
   "source": [
    "X_train, y_train =  window.train\n",
    "X_val,  y_val   =  window.val\n",
    "X_test, y_test  =  window.test"
   ]
  },
  {
   "cell_type": "code",
   "execution_count": 10,
   "id": "03444e5d-bf74-43ff-a526-21f6aad2de95",
   "metadata": {},
   "outputs": [
    {
     "data": {
      "text/plain": [
       "((30775, 12, 1), 1231)"
      ]
     },
     "execution_count": 10,
     "metadata": {},
     "output_type": "execute_result"
    }
   ],
   "source": [
    "X_train.shape, y_train.shape[0]//25"
   ]
  },
  {
   "cell_type": "code",
   "execution_count": 11,
   "id": "fdc8e25e-1a38-488b-bebe-c344b432f137",
   "metadata": {},
   "outputs": [
    {
     "data": {
      "text/plain": [
       "((8800, 12, 1), 352)"
      ]
     },
     "execution_count": 11,
     "metadata": {},
     "output_type": "execute_result"
    }
   ],
   "source": [
    "X_val.shape, y_val.shape[0]//25"
   ]
  },
  {
   "cell_type": "code",
   "execution_count": 12,
   "id": "36dc56b0-5fb3-432e-ad30-68e0a022c4be",
   "metadata": {},
   "outputs": [
    {
     "data": {
      "text/plain": [
       "((4400, 12, 1), 176)"
      ]
     },
     "execution_count": 12,
     "metadata": {},
     "output_type": "execute_result"
    }
   ],
   "source": [
    "X_test.shape, y_test.shape[0]//25"
   ]
  },
  {
   "cell_type": "markdown",
   "id": "8f384408-e14e-42a9-901f-25b18e7f512d",
   "metadata": {},
   "source": [
    "# Build Model"
   ]
  },
  {
   "cell_type": "code",
   "execution_count": 13,
   "id": "a6a2d1f3-6857-4a5c-b997-c4cdd8a3882b",
   "metadata": {},
   "outputs": [],
   "source": [
    "val_performance = pd.DataFrame()\n",
    "test_performance = pd.DataFrame()"
   ]
  },
  {
   "cell_type": "markdown",
   "id": "63503163-fa55-44b3-9476-9e2735387ab7",
   "metadata": {},
   "source": [
    "The models below combine two models (1) LSTM model for the performance of the wind turbine & (2) Dense model for the weather forecast. \n",
    "\n",
    "These two model outputs are concatenated & ran through two NN Dense layers to produce the output"
   ]
  },
  {
   "cell_type": "code",
   "execution_count": 14,
   "id": "4ef40ea1-d162-4649-8647-74492c411bfe",
   "metadata": {},
   "outputs": [],
   "source": [
    "def windspeed_model():    \n",
    "    # Performance model\n",
    "    inputs = tf.keras.layers.Input(shape=(n_steps_in, X_train.shape[2]))\n",
    "    x_seq = tf.keras.layers.LSTM(32, return_sequences=True, dropout=0.2)(inputs)\n",
    "    x_seq = tf.keras.layers.LSTM(32, return_sequences=True, dropout=0.2)(x_seq)\n",
    "    x_seq = tf.keras.layers.LSTM(32, return_sequences=True, dropout=0.2)(x_seq)\n",
    "    x = tf.keras.layers.LSTM(32, return_sequences=False)(x_seq)\n",
    "    x = tf.keras.layers.Dense(32, activation='relu')(x)\n",
    "    x = tf.keras.layers.Dropout(0.2)(x)\n",
    "    x = tf.keras.layers.Dense(32, activation='relu')(x)\n",
    "    outputs = tf.keras.layers.Dense(n_steps_out, activation='linear')(x)\n",
    "    \n",
    "    model = tf.keras.models.Model(inputs=inputs, outputs=outputs)\n",
    "    \n",
    "    return model"
   ]
  },
  {
   "cell_type": "raw",
   "id": "a45d24ae-e4d1-4452-8693-ade309fb82a1",
   "metadata": {},
   "source": [
    "def windspeed_model():    \n",
    "    # Performance model\n",
    "    inputs = tf.keras.layers.Input(shape=(n_steps_in, X_train.shape[2]))\n",
    "    x = tf.keras.layers.Dense(32, activation='relu')(inputs)\n",
    "    x = tf.keras.layers.Dropout(0.2)(x)\n",
    "    x = tf.keras.layers.Dense(32, activation='relu')(x)\n",
    "    x = tf.keras.layers.Dropout(0.5)(x)\n",
    "    outputs = tf.keras.layers.Dense(n_steps_out, activation='linear')(x)\n",
    "    \n",
    "    model = tf.keras.models.Model(inputs=inputs, outputs=outputs)\n",
    "    \n",
    "    return model"
   ]
  },
  {
   "cell_type": "code",
   "execution_count": 15,
   "id": "5627ca45-d653-4234-a14b-a58b49d5bfc3",
   "metadata": {},
   "outputs": [
    {
     "name": "stdout",
     "output_type": "stream",
     "text": [
      "Model: \"model\"\n",
      "_________________________________________________________________\n",
      "Layer (type)                 Output Shape              Param #   \n",
      "=================================================================\n",
      "input_1 (InputLayer)         [(None, 12, 1)]           0         \n",
      "_________________________________________________________________\n",
      "lstm (LSTM)                  (None, 12, 32)            4352      \n",
      "_________________________________________________________________\n",
      "lstm_1 (LSTM)                (None, 12, 32)            8320      \n",
      "_________________________________________________________________\n",
      "lstm_2 (LSTM)                (None, 12, 32)            8320      \n",
      "_________________________________________________________________\n",
      "lstm_3 (LSTM)                (None, 32)                8320      \n",
      "_________________________________________________________________\n",
      "dense (Dense)                (None, 32)                1056      \n",
      "_________________________________________________________________\n",
      "dropout (Dropout)            (None, 32)                0         \n",
      "_________________________________________________________________\n",
      "dense_1 (Dense)              (None, 32)                1056      \n",
      "_________________________________________________________________\n",
      "dense_2 (Dense)              (None, 12)                396       \n",
      "=================================================================\n",
      "Total params: 31,820\n",
      "Trainable params: 31,820\n",
      "Non-trainable params: 0\n",
      "_________________________________________________________________\n"
     ]
    }
   ],
   "source": [
    "model=windspeed_model()\n",
    "model.summary()"
   ]
  },
  {
   "cell_type": "markdown",
   "id": "fbdf4878-8cdc-47f3-a1ce-067090d9b7d9",
   "metadata": {},
   "source": [
    "# Run Model"
   ]
  },
  {
   "cell_type": "code",
   "execution_count": 16,
   "id": "b381d168-92e4-4f12-9397-381db2271824",
   "metadata": {},
   "outputs": [
    {
     "name": "stderr",
     "output_type": "stream",
     "text": [
      "\u001b[34m\u001b[1mwandb\u001b[0m: Currently logged in as: \u001b[33mshmiggit\u001b[0m (use `wandb login --relogin` to force relogin)\n"
     ]
    },
    {
     "data": {
      "text/html": [
       "\n",
       "                    Syncing run <strong><a href=\"https://wandb.ai/shmiggit/wind_forecast/runs/qi62urrt\" target=\"_blank\">lunar-sky-53</a></strong> to <a href=\"https://wandb.ai/shmiggit/wind_forecast\" target=\"_blank\">Weights & Biases</a> (<a href=\"https://docs.wandb.com/integrations/jupyter.html\" target=\"_blank\">docs</a>).<br/>\n",
       "\n",
       "                "
      ],
      "text/plain": [
       "<IPython.core.display.HTML object>"
      ]
     },
     "metadata": {},
     "output_type": "display_data"
    },
    {
     "data": {
      "text/html": [
       "<button onClick=\"this.nextSibling.style.display='block';this.style.display='none';\">Display W&B run</button><iframe src=\"https://wandb.ai/shmiggit/wind_forecast/runs/qi62urrt?jupyter=true\" style=\"border:none;width:100%;height:420px;display:none;\"></iframe>"
      ],
      "text/plain": [
       "<wandb.sdk.wandb_run.Run at 0x7faea5ccad90>"
      ]
     },
     "execution_count": 16,
     "metadata": {},
     "output_type": "execute_result"
    }
   ],
   "source": [
    "wandb.init(project=\"wind_forecast\", entity=\"shmiggit\")"
   ]
  },
  {
   "cell_type": "code",
   "execution_count": 17,
   "id": "ab6bb533-551a-49d7-8cc5-cc118d0b743d",
   "metadata": {},
   "outputs": [],
   "source": [
    "model_name = 'WindSpeed_model_lunar-sky-53'"
   ]
  },
  {
   "cell_type": "raw",
   "id": "0bc1c479-aefd-4756-bad2-f38f4b59495d",
   "metadata": {},
   "source": [
    "wandb.config = {\n",
    "    \"input_days\": 3,\n",
    "    \"forecast\": True,\n",
    "    \"model_type\" : 'LSTM',\n",
    "  \"learning_rate\": 0.001,\n",
    "  \"epochs\": 100,\n",
    "  \"batch_size\": 32\n",
    "}"
   ]
  },
  {
   "cell_type": "code",
   "execution_count": 18,
   "id": "7421cd61-f595-4eb4-bb18-d2abfa4bfe3a",
   "metadata": {},
   "outputs": [],
   "source": [
    "def compile_and_fit(model, window):\n",
    "    \n",
    "    # Early stopping\n",
    "    early_stopping = tf.keras.callbacks.EarlyStopping(monitor='val_loss',\n",
    "                                                      patience=30,\n",
    "                                                      mode='min',\n",
    "                                                      restore_best_weights=True)\n",
    "\n",
    "    # Reduce learning rate by an order of magnitude if val_loss does not improve for 20 epoch\n",
    "    rlrop = tf.keras.callbacks.ReduceLROnPlateau(monitor='val_loss', \n",
    "                                                 factor=0.1,\n",
    "                                                 min_lr=1e-7,\n",
    "                                                 verbose=1,\n",
    "                                                 patience=10)\n",
    "    \n",
    "    model.compile(loss=tf.losses.MeanSquaredError(),\n",
    "                  optimizer=tf.optimizers.Adam(),\n",
    "                  metrics=[tf.metrics.MeanAbsoluteError()])\n",
    "    \n",
    "    checkpoint=tf.keras.callbacks.ModelCheckpoint(f\"./checkpoint/checkpoint_{model_name}.h5\", save_best_only=True, save_weights_only=True)\n",
    "    \n",
    "    history = model.fit(X_train, y_train, \n",
    "                        epochs=500,\n",
    "                        validation_data=(X_val, y_val),\n",
    "                        batch_size=512,\n",
    "                        callbacks=[early_stopping, rlrop, checkpoint])\n",
    "    model.save(f'./checkpoint/LSTM_WindSpeed_{model_name}.h5')\n",
    "    return history"
   ]
  },
  {
   "cell_type": "code",
   "execution_count": 19,
   "id": "f4fbc611-7caf-4b3c-8962-ab66a5a751e3",
   "metadata": {},
   "outputs": [
    {
     "name": "stdout",
     "output_type": "stream",
     "text": [
      "Epoch 1/500\n"
     ]
    },
    {
     "name": "stderr",
     "output_type": "stream",
     "text": [
      "2022-02-24 16:19:53.384917: I tensorflow/stream_executor/cuda/cuda_dnn.cc:369] Loaded cuDNN version 8005\n"
     ]
    },
    {
     "name": "stdout",
     "output_type": "stream",
     "text": [
      "61/61 [==============================] - 7s 26ms/step - loss: 0.0636 - mean_absolute_error: 0.1999 - val_loss: 0.0194 - val_mean_absolute_error: 0.1114\n",
      "Epoch 2/500\n",
      "61/61 [==============================] - 1s 9ms/step - loss: 0.0187 - mean_absolute_error: 0.1092 - val_loss: 0.0149 - val_mean_absolute_error: 0.0965\n",
      "Epoch 3/500\n",
      "61/61 [==============================] - 1s 9ms/step - loss: 0.0167 - mean_absolute_error: 0.1034 - val_loss: 0.0150 - val_mean_absolute_error: 0.0967\n",
      "Epoch 4/500\n",
      "61/61 [==============================] - 1s 9ms/step - loss: 0.0158 - mean_absolute_error: 0.1007 - val_loss: 0.0155 - val_mean_absolute_error: 0.0983\n",
      "Epoch 5/500\n",
      "61/61 [==============================] - 1s 9ms/step - loss: 0.0153 - mean_absolute_error: 0.0992 - val_loss: 0.0153 - val_mean_absolute_error: 0.0976\n",
      "Epoch 6/500\n",
      "61/61 [==============================] - 1s 9ms/step - loss: 0.0150 - mean_absolute_error: 0.0983 - val_loss: 0.0154 - val_mean_absolute_error: 0.0979\n",
      "Epoch 7/500\n",
      "61/61 [==============================] - 1s 10ms/step - loss: 0.0147 - mean_absolute_error: 0.0972 - val_loss: 0.0152 - val_mean_absolute_error: 0.0974\n",
      "Epoch 8/500\n",
      "61/61 [==============================] - 1s 9ms/step - loss: 0.0146 - mean_absolute_error: 0.0969 - val_loss: 0.0156 - val_mean_absolute_error: 0.0985\n",
      "Epoch 9/500\n",
      "61/61 [==============================] - 1s 9ms/step - loss: 0.0145 - mean_absolute_error: 0.0967 - val_loss: 0.0168 - val_mean_absolute_error: 0.1023\n",
      "Epoch 10/500\n",
      "61/61 [==============================] - 1s 9ms/step - loss: 0.0145 - mean_absolute_error: 0.0967 - val_loss: 0.0156 - val_mean_absolute_error: 0.0986\n",
      "Epoch 11/500\n",
      "61/61 [==============================] - 1s 15ms/step - loss: 0.0143 - mean_absolute_error: 0.0962 - val_loss: 0.0170 - val_mean_absolute_error: 0.1031\n",
      "Epoch 12/500\n",
      "61/61 [==============================] - 1s 13ms/step - loss: 0.0143 - mean_absolute_error: 0.0961 - val_loss: 0.0163 - val_mean_absolute_error: 0.1006\n",
      "\n",
      "Epoch 00012: ReduceLROnPlateau reducing learning rate to 0.00010000000474974513.\n",
      "Epoch 13/500\n",
      "61/61 [==============================] - 1s 9ms/step - loss: 0.0141 - mean_absolute_error: 0.0953 - val_loss: 0.0160 - val_mean_absolute_error: 0.0999\n",
      "Epoch 14/500\n",
      "61/61 [==============================] - 1s 9ms/step - loss: 0.0141 - mean_absolute_error: 0.0953 - val_loss: 0.0163 - val_mean_absolute_error: 0.1007\n",
      "Epoch 15/500\n",
      "61/61 [==============================] - 1s 10ms/step - loss: 0.0141 - mean_absolute_error: 0.0955 - val_loss: 0.0161 - val_mean_absolute_error: 0.1003\n",
      "Epoch 16/500\n",
      "61/61 [==============================] - 1s 9ms/step - loss: 0.0141 - mean_absolute_error: 0.0954 - val_loss: 0.0164 - val_mean_absolute_error: 0.1010\n",
      "Epoch 17/500\n",
      "61/61 [==============================] - 1s 9ms/step - loss: 0.0141 - mean_absolute_error: 0.0955 - val_loss: 0.0162 - val_mean_absolute_error: 0.1007\n",
      "Epoch 18/500\n",
      "61/61 [==============================] - 1s 9ms/step - loss: 0.0141 - mean_absolute_error: 0.0953 - val_loss: 0.0166 - val_mean_absolute_error: 0.1017\n",
      "Epoch 19/500\n",
      "61/61 [==============================] - 1s 9ms/step - loss: 0.0140 - mean_absolute_error: 0.0951 - val_loss: 0.0163 - val_mean_absolute_error: 0.1010\n",
      "Epoch 20/500\n",
      "61/61 [==============================] - 1s 9ms/step - loss: 0.0140 - mean_absolute_error: 0.0952 - val_loss: 0.0161 - val_mean_absolute_error: 0.1001\n",
      "Epoch 21/500\n",
      "61/61 [==============================] - 1s 9ms/step - loss: 0.0140 - mean_absolute_error: 0.0951 - val_loss: 0.0163 - val_mean_absolute_error: 0.1009\n",
      "Epoch 22/500\n",
      "61/61 [==============================] - 1s 9ms/step - loss: 0.0140 - mean_absolute_error: 0.0950 - val_loss: 0.0165 - val_mean_absolute_error: 0.1016\n",
      "\n",
      "Epoch 00022: ReduceLROnPlateau reducing learning rate to 1.0000000474974514e-05.\n",
      "Epoch 23/500\n",
      "61/61 [==============================] - 1s 9ms/step - loss: 0.0139 - mean_absolute_error: 0.0949 - val_loss: 0.0166 - val_mean_absolute_error: 0.1017\n",
      "Epoch 24/500\n",
      "61/61 [==============================] - 1s 9ms/step - loss: 0.0140 - mean_absolute_error: 0.0949 - val_loss: 0.0165 - val_mean_absolute_error: 0.1014\n",
      "Epoch 25/500\n",
      "61/61 [==============================] - 1s 9ms/step - loss: 0.0139 - mean_absolute_error: 0.0948 - val_loss: 0.0166 - val_mean_absolute_error: 0.1018\n",
      "Epoch 26/500\n",
      "61/61 [==============================] - 1s 9ms/step - loss: 0.0140 - mean_absolute_error: 0.0950 - val_loss: 0.0165 - val_mean_absolute_error: 0.1015\n",
      "Epoch 27/500\n",
      "61/61 [==============================] - 1s 13ms/step - loss: 0.0140 - mean_absolute_error: 0.0949 - val_loss: 0.0167 - val_mean_absolute_error: 0.1020\n",
      "Epoch 28/500\n",
      "61/61 [==============================] - 1s 9ms/step - loss: 0.0139 - mean_absolute_error: 0.0948 - val_loss: 0.0167 - val_mean_absolute_error: 0.1021\n",
      "Epoch 29/500\n",
      "61/61 [==============================] - 1s 9ms/step - loss: 0.0139 - mean_absolute_error: 0.0949 - val_loss: 0.0166 - val_mean_absolute_error: 0.1020\n",
      "Epoch 30/500\n",
      "61/61 [==============================] - 1s 9ms/step - loss: 0.0139 - mean_absolute_error: 0.0948 - val_loss: 0.0165 - val_mean_absolute_error: 0.1014\n",
      "Epoch 31/500\n",
      "61/61 [==============================] - 1s 9ms/step - loss: 0.0139 - mean_absolute_error: 0.0948 - val_loss: 0.0165 - val_mean_absolute_error: 0.1014\n",
      "Epoch 32/500\n",
      "61/61 [==============================] - 1s 9ms/step - loss: 0.0140 - mean_absolute_error: 0.0949 - val_loss: 0.0165 - val_mean_absolute_error: 0.1016\n",
      "\n",
      "Epoch 00032: ReduceLROnPlateau reducing learning rate to 1.0000000656873453e-06.\n"
     ]
    }
   ],
   "source": [
    "model = windspeed_model()\n",
    "history = compile_and_fit(model, window)"
   ]
  },
  {
   "cell_type": "code",
   "execution_count": null,
   "id": "85d2edf2-fa00-4bda-abf7-57a273051c23",
   "metadata": {},
   "outputs": [],
   "source": [
    "val_performance[model_name] = model.evaluate(X_val, y_val)\n",
    "test_performance[model_name] = model.evaluate(X_test, y_test)"
   ]
  },
  {
   "cell_type": "code",
   "execution_count": 20,
   "id": "44100be9-8f68-49c7-a757-256f6e8350c2",
   "metadata": {},
   "outputs": [
    {
     "data": {
      "image/png": "[encoded data removed]",
      "text/plain": [
       "<Figure size 936x288 with 1 Axes>"
      ]
     },
     "metadata": {
      "needs_background": "light"
     },
     "output_type": "display_data"
    }
   ],
   "source": [
    "plot_loss(history)"
   ]
  },
  {
   "cell_type": "code",
   "execution_count": null,
   "id": "79a94a37-d4f7-4fa7-bb7e-79f7bdd63a5b",
   "metadata": {},
   "outputs": [],
   "source": [
    "y_pred = model.predict(X_val, batch_size=1)\n",
    "y_pred = y_pred.reshape(y_pred.shape[0], y_pred.shape[1], 1)"
   ]
  },
  {
   "cell_type": "code",
   "execution_count": null,
   "id": "ceb8fef9-e739-4175-a563-3e1cf42a1460",
   "metadata": {},
   "outputs": [],
   "source": [
    "plot(X_val, y_pred, y_val)"
   ]
  },
  {
   "cell_type": "markdown",
   "id": "1906753d-a775-4922-96fb-286427e668f8",
   "metadata": {
    "jp-MarkdownHeadingCollapsed": true,
    "tags": []
   },
   "source": [
    "### Plot function"
   ]
  },
  {
   "cell_type": "code",
   "execution_count": null,
   "id": "65ad4f17-0240-4d5a-95e8-400366ab3a43",
   "metadata": {},
   "outputs": [],
   "source": [
    "def plot(x_hist, y_pred, y_true, max_subplots=3):\n",
    "        plot_col = 'Wind Speed'\n",
    "    \n",
    "        \n",
    "        plt.figure(figsize=(12, 8))\n",
    "        plot_col_index = window.column_indices[plot_col]\n",
    "        max_n = min(max_subplots, len(y_true))\n",
    "        for n in range(max_n):\n",
    "            i = np.random.randint(0,len(y_true))\n",
    "            plt.subplot(max_n, 1, n+1)\n",
    "            plt.ylabel('Wind Speed (m/s)')            \n",
    "            \n",
    "            # Historical inputs\n",
    "            plt.plot(window.input_indices, x_hist[i, :],\n",
    "                     label='Inputs', marker='.', zorder=-10)\n",
    "            \n",
    "            \n",
    "#             # Forecast input\n",
    "#             if window.forecast_columns:\n",
    "#                 forecast_col_index = window.forecast_columns_indices.get('M50 [m/s]', None)\n",
    "#             else:\n",
    "#                 forecast_col_index = plot_col_index\n",
    "            \n",
    "#             ax2.plot(window.forecast_indices, x_fc[i, :, forecast_col_index],\n",
    "#                      label='Forecast Inputs', marker='o', c='blue', zorder=-10)\n",
    "            \n",
    "            \n",
    "            # Target\n",
    "            if window.label_columns:\n",
    "                label_col_index = window.label_columns_indices.get(plot_col, None)\n",
    "            else:\n",
    "                label_col_index = plot_col_index\n",
    "\n",
    "            if label_col_index is None:\n",
    "                label_col_index = 0\n",
    "            \n",
    "            # Label\n",
    "            plt.plot(window.label_indices, y_true[i, :],\n",
    "                        label='Labels', c='#2ca02c', marker='.')\n",
    "\n",
    "            # Prediction\n",
    "            plt.plot(window.label_indices, y_pred[i, :],\n",
    "                        marker='X', label='Predictions', c='#ff7f0e')\n",
    "            \n",
    "            if n == 0:\n",
    "                plt.legend()\n",
    "\n",
    "            plt.xlabel('Time [h]')\n",
    "            plt.tight_layout()"
   ]
  },
  {
   "cell_type": "code",
   "execution_count": null,
   "id": "a82d3b2f-df9d-4fe4-847b-d6f78c1152fd",
   "metadata": {},
   "outputs": [],
   "source": []
  },
  {
   "cell_type": "markdown",
   "id": "d818ce83-38d2-4317-81fe-6ea3e7a9e1de",
   "metadata": {
    "tags": []
   },
   "source": [
    "# Load Latest Model"
   ]
  },
  {
   "cell_type": "code",
   "execution_count": 13,
   "id": "63889cd6-e7ac-40d6-aacf-ac01cf58d371",
   "metadata": {},
   "outputs": [],
   "source": [
    "model = tf.keras.models.load_model('./checkpoint/LSTM_WindSpeed_WindSpeed_model_lemon-sponge-49.h5')"
   ]
  },
  {
   "cell_type": "code",
   "execution_count": 40,
   "id": "c9980bd8-9782-4747-9651-c6facf370490",
   "metadata": {},
   "outputs": [],
   "source": [
    "ws_train = model.predict(X_train, batch_size=32)\n",
    "ws_val   = model.predict(X_val, batch_size=32)\n",
    "ws_test  = model.predict(X_test, batch_size=32)"
   ]
  },
  {
   "cell_type": "code",
   "execution_count": 41,
   "id": "e6ec17ed-3acb-427e-9a92-65915395e6b3",
   "metadata": {},
   "outputs": [],
   "source": [
    "ws_train = ws_train.reshape(ws_train.shape[0]*ws_train.shape[1])\n",
    "ws_val = ws_val.reshape(ws_val.shape[0]*ws_val.shape[1])\n",
    "ws_test = ws_test.reshape(ws_test.shape[0]*ws_test.shape[1])"
   ]
  },
  {
   "cell_type": "code",
   "execution_count": 42,
   "id": "22aa51f9-68af-4fed-a2bf-427ff6c32465",
   "metadata": {},
   "outputs": [],
   "source": [
    "np.save('./projectwind/data/WindSpeed_adapted_train.npy', np.asanyarray(ws_train, dtype=float))\n",
    "np.save('./projectwind/data/WindSpeed_adapted_val.npy', np.asanyarray(ws_val, dtype=float))\n",
    "np.save('./projectwind/data/WindSpeed_adapted_test.npy', np.asanyarray(ws_test, dtype=float))"
   ]
  },
  {
   "cell_type": "raw",
   "id": "ea3451bc-3a15-4d67-af0b-c2759e0fb0f6",
   "metadata": {},
   "source": [
    "np.save('./projectwind/data/WindSpeed_adated.npy', np.asanyarray(ws, dtype=object))"
   ]
  },
  {
   "cell_type": "code",
   "execution_count": 43,
   "id": "c99b4d35-f9ce-445d-bb72-60dd8fcdb559",
   "metadata": {},
   "outputs": [],
   "source": [
    "ws_train = np.load('./projectwind/data/WindSpeed_adapted_train.npy', allow_pickle=True)\n",
    "ws_val = np.load('./projectwind/data/WindSpeed_adapted_val.npy', allow_pickle=True)\n",
    "ws_test = np.load('./projectwind/data/WindSpeed_adapted_test.npy', allow_pickle=True)"
   ]
  },
  {
   "cell_type": "code",
   "execution_count": 45,
   "id": "6e52f5b6-3ab6-4862-8921-0cd805b5735b",
   "metadata": {},
   "outputs": [
    {
     "data": {
      "text/plain": [
       "(369300,)"
      ]
     },
     "execution_count": 45,
     "metadata": {},
     "output_type": "execute_result"
    }
   ],
   "source": [
    "ws_train.shape"
   ]
  },
  {
   "cell_type": "code",
   "execution_count": null,
   "id": "c041b7a8-742b-47fa-9cf7-326d75fa7631",
   "metadata": {},
   "outputs": [],
   "source": [
    "ws_data = ws_data.reshape(ws_data.shape[0], ws_data.shape[1])"
   ]
  },
  {
   "cell_type": "code",
   "execution_count": null,
   "id": "63bae407-2f2f-4dc4-b424-3542bbe538d4",
   "metadata": {},
   "outputs": [],
   "source": [
    "data= pd.DataFrame(ws_data)"
   ]
  },
  {
   "cell_type": "code",
   "execution_count": null,
   "id": "f1911fca-8ef6-42cc-aab5-bd20015fa2ce",
   "metadata": {},
   "outputs": [],
   "source": [
    "data.head()"
   ]
  },
  {
   "cell_type": "raw",
   "id": "2e4e10cb-a3ff-45ee-ad1b-9c8ad241739a",
   "metadata": {},
   "source": [
    "window.plot(multi_lstm_model)"
   ]
  }
 ],
 "metadata": {
  "environment": {
   "kernel": "python3",
   "name": "tf2-gpu.2-6.m89",
   "type": "gcloud",
   "uri": "gcr.io/deeplearning-platform-release/tf2-gpu.2-6:m89"
  },
  "kernelspec": {
   "display_name": "Python 3",
   "language": "python",
   "name": "python3"
  },
  "language_info": {
   "codemirror_mode": {
    "name": "ipython",
    "version": 3
   },
   "file_extension": ".py",
   "mimetype": "text/x-python",
   "name": "python",
   "nbconvert_exporter": "python",
   "pygments_lexer": "ipython3",
   "version": "3.7.12"
  }
 },
 "nbformat": 4,
 "nbformat_minor": 5
}
